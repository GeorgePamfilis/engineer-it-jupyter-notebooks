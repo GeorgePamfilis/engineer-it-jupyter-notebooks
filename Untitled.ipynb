{
 "cells": [
  {
   "cell_type": "code",
   "execution_count": 26,
   "metadata": {},
   "outputs": [],
   "source": [
    "import pandas as pd\n",
    "import numpy as np"
   ]
  },
  {
   "cell_type": "code",
   "execution_count": 22,
   "metadata": {},
   "outputs": [
    {
     "data": {
      "text/html": [
       "<div>\n",
       "<style scoped>\n",
       "    .dataframe tbody tr th:only-of-type {\n",
       "        vertical-align: middle;\n",
       "    }\n",
       "\n",
       "    .dataframe tbody tr th {\n",
       "        vertical-align: top;\n",
       "    }\n",
       "\n",
       "    .dataframe thead th {\n",
       "        text-align: right;\n",
       "    }\n",
       "</style>\n",
       "<table border=\"1\" class=\"dataframe\">\n",
       "  <thead>\n",
       "    <tr style=\"text-align: right;\">\n",
       "      <th></th>\n",
       "      <th>value</th>\n",
       "      <th>units</th>\n",
       "    </tr>\n",
       "    <tr>\n",
       "      <th>param</th>\n",
       "      <th></th>\n",
       "      <th></th>\n",
       "    </tr>\n",
       "  </thead>\n",
       "  <tbody>\n",
       "    <tr>\n",
       "      <th>L</th>\n",
       "      <td>50000.0</td>\n",
       "      <td>m</td>\n",
       "    </tr>\n",
       "    <tr>\n",
       "      <th>W</th>\n",
       "      <td>15.0</td>\n",
       "      <td>m</td>\n",
       "    </tr>\n",
       "    <tr>\n",
       "      <th>H</th>\n",
       "      <td>2.0</td>\n",
       "      <td>m</td>\n",
       "    </tr>\n",
       "    <tr>\n",
       "      <th>Q</th>\n",
       "      <td>600000.0</td>\n",
       "      <td>m³/d</td>\n",
       "    </tr>\n",
       "    <tr>\n",
       "      <th>u</th>\n",
       "      <td>20000.0</td>\n",
       "      <td>m/d</td>\n",
       "    </tr>\n",
       "  </tbody>\n",
       "</table>\n",
       "</div>"
      ],
      "text/plain": [
       "          value units\n",
       "param                \n",
       "L       50000.0     m\n",
       "W          15.0     m\n",
       "H           2.0     m\n",
       "Q      600000.0  m³/d\n",
       "u       20000.0   m/d"
      ]
     },
     "execution_count": 22,
     "metadata": {},
     "output_type": "execute_result"
    }
   ],
   "source": [
    "df1 = pd.read_excel('./Copy of ECOMOD_2017_1_River_Blank.xlsx', sheet_name='INPUTDATA', index_col=0)\n",
    "df1.head()"
   ]
  },
  {
   "cell_type": "code",
   "execution_count": 30,
   "metadata": {},
   "outputs": [],
   "source": [
    "u = df1.loc['u']['value']\n",
    "E = df1.loc['E']['value']"
   ]
  },
  {
   "cell_type": "code",
   "execution_count": 23,
   "metadata": {},
   "outputs": [
    {
     "data": {
      "text/html": [
       "<div>\n",
       "<style scoped>\n",
       "    .dataframe tbody tr th:only-of-type {\n",
       "        vertical-align: middle;\n",
       "    }\n",
       "\n",
       "    .dataframe tbody tr th {\n",
       "        vertical-align: top;\n",
       "    }\n",
       "\n",
       "    .dataframe thead th {\n",
       "        text-align: right;\n",
       "    }\n",
       "</style>\n",
       "<table border=\"1\" class=\"dataframe\">\n",
       "  <thead>\n",
       "    <tr style=\"text-align: right;\">\n",
       "      <th></th>\n",
       "      <th>BOD</th>\n",
       "      <th>DO</th>\n",
       "      <th>org-N</th>\n",
       "      <th>NH4-N</th>\n",
       "      <th>NO3-N</th>\n",
       "    </tr>\n",
       "    <tr>\n",
       "      <th>stream</th>\n",
       "      <th></th>\n",
       "      <th></th>\n",
       "      <th></th>\n",
       "      <th></th>\n",
       "      <th></th>\n",
       "    </tr>\n",
       "  </thead>\n",
       "  <tbody>\n",
       "    <tr>\n",
       "      <th>upstream</th>\n",
       "      <td>10.97</td>\n",
       "      <td>9.0</td>\n",
       "      <td>0.83</td>\n",
       "      <td>0.5</td>\n",
       "      <td>0.0</td>\n",
       "    </tr>\n",
       "    <tr>\n",
       "      <th>downstream</th>\n",
       "      <td>NaN</td>\n",
       "      <td>NaN</td>\n",
       "      <td>NaN</td>\n",
       "      <td>NaN</td>\n",
       "      <td>NaN</td>\n",
       "    </tr>\n",
       "  </tbody>\n",
       "</table>\n",
       "</div>"
      ],
      "text/plain": [
       "              BOD   DO  org-N  NH4-N  NO3-N\n",
       "stream                                     \n",
       "upstream    10.97  9.0   0.83    0.5    0.0\n",
       "downstream    NaN  NaN    NaN    NaN    NaN"
      ]
     },
     "execution_count": 23,
     "metadata": {},
     "output_type": "execute_result"
    }
   ],
   "source": [
    "df2 = pd.read_excel('./Copy of ECOMOD_2017_1_River_Blank.xlsx', sheet_name='BOUNDARYCONDITIONS', index_col=0)\n",
    "df2.head()"
   ]
  },
  {
   "cell_type": "code",
   "execution_count": 24,
   "metadata": {},
   "outputs": [
    {
     "data": {
      "text/html": [
       "<div>\n",
       "<style scoped>\n",
       "    .dataframe tbody tr th:only-of-type {\n",
       "        vertical-align: middle;\n",
       "    }\n",
       "\n",
       "    .dataframe tbody tr th {\n",
       "        vertical-align: top;\n",
       "    }\n",
       "\n",
       "    .dataframe thead th {\n",
       "        text-align: right;\n",
       "    }\n",
       "</style>\n",
       "<table border=\"1\" class=\"dataframe\">\n",
       "  <thead>\n",
       "    <tr style=\"text-align: right;\">\n",
       "      <th></th>\n",
       "      <th>River</th>\n",
       "      <th>Sewage</th>\n",
       "      <th>Removal</th>\n",
       "      <th>WWTP</th>\n",
       "      <th>Downstream</th>\n",
       "      <th>Units</th>\n",
       "    </tr>\n",
       "    <tr>\n",
       "      <th>type</th>\n",
       "      <th></th>\n",
       "      <th></th>\n",
       "      <th></th>\n",
       "      <th></th>\n",
       "      <th></th>\n",
       "      <th></th>\n",
       "    </tr>\n",
       "  </thead>\n",
       "  <tbody>\n",
       "    <tr>\n",
       "      <th>Q</th>\n",
       "      <td>580000</td>\n",
       "      <td>20000</td>\n",
       "      <td>NaN</td>\n",
       "      <td>NaN</td>\n",
       "      <td>600000.000000</td>\n",
       "      <td>m³/d</td>\n",
       "    </tr>\n",
       "    <tr>\n",
       "      <th>BOD</th>\n",
       "      <td>1</td>\n",
       "      <td>300</td>\n",
       "      <td>NaN</td>\n",
       "      <td>NaN</td>\n",
       "      <td>10.966667</td>\n",
       "      <td>g/m3</td>\n",
       "    </tr>\n",
       "    <tr>\n",
       "      <th>DO</th>\n",
       "      <td>9</td>\n",
       "      <td>0</td>\n",
       "      <td>NaN</td>\n",
       "      <td>NaN</td>\n",
       "      <td>8.700000</td>\n",
       "      <td>g/m3</td>\n",
       "    </tr>\n",
       "    <tr>\n",
       "      <th>ORGN</th>\n",
       "      <td>0</td>\n",
       "      <td>25</td>\n",
       "      <td>NaN</td>\n",
       "      <td>NaN</td>\n",
       "      <td>0.833333</td>\n",
       "      <td>g/m3</td>\n",
       "    </tr>\n",
       "    <tr>\n",
       "      <th>NH4N</th>\n",
       "      <td>0</td>\n",
       "      <td>15</td>\n",
       "      <td>NaN</td>\n",
       "      <td>NaN</td>\n",
       "      <td>0.500000</td>\n",
       "      <td>g/m3</td>\n",
       "    </tr>\n",
       "  </tbody>\n",
       "</table>\n",
       "</div>"
      ],
      "text/plain": [
       "       River  Sewage  Removal  WWTP     Downstream Units\n",
       "type                                                    \n",
       "Q     580000   20000      NaN   NaN  600000.000000  m³/d\n",
       "BOD        1     300      NaN   NaN      10.966667  g/m3\n",
       "DO         9       0      NaN   NaN       8.700000  g/m3\n",
       "ORGN       0      25      NaN   NaN       0.833333  g/m3\n",
       "NH4N       0      15      NaN   NaN       0.500000  g/m3"
      ]
     },
     "execution_count": 24,
     "metadata": {},
     "output_type": "execute_result"
    }
   ],
   "source": [
    "df3 = pd.read_excel('./Copy of ECOMOD_2017_1_River_Blank.xlsx', sheet_name='FLOWINPUT', index_col=0)\n",
    "df3.head()"
   ]
  },
  {
   "cell_type": "code",
   "execution_count": 33,
   "metadata": {},
   "outputs": [],
   "source": [
    "n=20\n",
    "dx = 2500\n",
    "dt = 0.05\n",
    "#choosen\n",
    "d = 0.1\n",
    "\n",
    "P = (u*dx)/E\n",
    "c = .4\n",
    "d= c/P"
   ]
  },
  {
   "cell_type": "code",
   "execution_count": 34,
   "metadata": {},
   "outputs": [
    {
     "data": {
      "text/plain": [
       "500.0"
      ]
     },
     "execution_count": 34,
     "metadata": {},
     "output_type": "execute_result"
    }
   ],
   "source": [
    "P"
   ]
  },
  {
   "cell_type": "code",
   "execution_count": 129,
   "metadata": {},
   "outputs": [
    {
     "data": {
      "text/plain": [
       "array([[ 0.4016,  0.5976,  0.0008],\n",
       "       [ 0.4008,  0.5984,  0.0008],\n",
       "       [ 0.4008,  0.5992,  0.    ]])"
      ]
     },
     "execution_count": 129,
     "metadata": {},
     "output_type": "execute_result"
    }
   ],
   "source": [
    "def coeeficients(c,d):\n",
    "    a = np.array([[c+(2*d),1-c-(3*d),d],\n",
    "                  [c+d,    1-c-(2*d),d],\n",
    "                  [c+d,    1-c-(1*d),0.0]])\n",
    "    return a\n",
    "a = coeeficients(c,d)\n",
    "a"
   ]
  },
  {
   "cell_type": "raw",
   "metadata": {},
   "source": [
    "c38 = a[0][0]\n",
    "d38 = a[0][1]\n",
    "e38 = a[0][2]"
   ]
  },
  {
   "cell_type": "code",
   "execution_count": 130,
   "metadata": {},
   "outputs": [],
   "source": [
    "time = np.arange(0,216,1)*dt\n",
    "ns = np.arange(0, 21, 1)"
   ]
  },
  {
   "cell_type": "code",
   "execution_count": 131,
   "metadata": {},
   "outputs": [],
   "source": [
    "table = np.zeros((time.shape[0], ns.shape[0]))"
   ]
  },
  {
   "cell_type": "code",
   "execution_count": 132,
   "metadata": {},
   "outputs": [],
   "source": [
    "bod = df2.loc['upstream']['BOD']"
   ]
  },
  {
   "cell_type": "code",
   "execution_count": 125,
   "metadata": {},
   "outputs": [],
   "source": [
    "x_0 = np.zeros(time.shape[0])\n",
    "x_0[0] = bod\n",
    "for i in range(1, time.shape[0]):\n",
    "    x_0[i] = x_0[i-1]-(x_0[i-1]*kd*time[i])"
   ]
  },
  {
   "cell_type": "code",
   "execution_count": 158,
   "metadata": {},
   "outputs": [],
   "source": [
    "table[:,0] = bod"
   ]
  },
  {
   "cell_type": "code",
   "execution_count": 159,
   "metadata": {},
   "outputs": [],
   "source": [
    "table[0,1:] = 1 # background river bod"
   ]
  },
  {
   "cell_type": "code",
   "execution_count": 161,
   "metadata": {},
   "outputs": [],
   "source": [
    "for i in np.arange(1, 21, 1):\n",
    "    if i==1:\n",
    "        table[1:,i] = (table[1:,i-1][0]*a[0]).sum() - (table[1:,i-1]*time[1:]*kd)\n",
    "    elif (i>1) & (i<ns[-1]):\n",
    "        table[1:,i] = (table[1:,i-1][0]*a[1]).sum() - (table[1:,i-1]*time[1:]*kd)\n",
    "    elif i==ns[-1]:\n",
    "        table[1:,i] = (table[1:,1-1][0]*a[2]).sum() - (table[1:,i-1]*time[1:]*kd)"
   ]
  },
  {
   "cell_type": "code",
   "execution_count": 164,
   "metadata": {},
   "outputs": [
    {
     "data": {
      "text/plain": [
       "array([  1.    ,  10.8603,  10.7506,  10.6409,  10.5312,  10.4215,\n",
       "        10.3118,  10.2021,  10.0924,   9.9827,   9.873 ,   9.7633,\n",
       "         9.6536,   9.5439,   9.4342,   9.3245,   9.2148,   9.1051,\n",
       "         8.9954,   8.8857,   8.776 ,   8.6663,   8.5566,   8.4469,\n",
       "         8.3372,   8.2275,   8.1178,   8.0081,   7.8984,   7.7887,\n",
       "         7.679 ,   7.5693,   7.4596,   7.3499,   7.2402,   7.1305,\n",
       "         7.0208,   6.9111,   6.8014,   6.6917,   6.582 ,   6.4723,\n",
       "         6.3626,   6.2529,   6.1432,   6.0335,   5.9238,   5.8141,\n",
       "         5.7044,   5.5947,   5.485 ,   5.3753,   5.2656,   5.1559,\n",
       "         5.0462,   4.9365,   4.8268,   4.7171,   4.6074,   4.4977,\n",
       "         4.388 ,   4.2783,   4.1686,   4.0589,   3.9492,   3.8395,\n",
       "         3.7298,   3.6201,   3.5104,   3.4007,   3.291 ,   3.1813,\n",
       "         3.0716,   2.9619,   2.8522,   2.7425,   2.6328,   2.5231,\n",
       "         2.4134,   2.3037,   2.194 ,   2.0843,   1.9746,   1.8649,\n",
       "         1.7552,   1.6455,   1.5358,   1.4261,   1.3164,   1.2067,\n",
       "         1.097 ,   0.9873,   0.8776,   0.7679,   0.6582,   0.5485,\n",
       "         0.4388,   0.3291,   0.2194,   0.1097,   0.    ,  -0.1097,\n",
       "        -0.2194,  -0.3291,  -0.4388,  -0.5485,  -0.6582,  -0.7679,\n",
       "        -0.8776,  -0.9873,  -1.097 ,  -1.2067,  -1.3164,  -1.4261,\n",
       "        -1.5358,  -1.6455,  -1.7552,  -1.8649,  -1.9746,  -2.0843,\n",
       "        -2.194 ,  -2.3037,  -2.4134,  -2.5231,  -2.6328,  -2.7425,\n",
       "        -2.8522,  -2.9619,  -3.0716,  -3.1813,  -3.291 ,  -3.4007,\n",
       "        -3.5104,  -3.6201,  -3.7298,  -3.8395,  -3.9492,  -4.0589,\n",
       "        -4.1686,  -4.2783,  -4.388 ,  -4.4977,  -4.6074,  -4.7171,\n",
       "        -4.8268,  -4.9365,  -5.0462,  -5.1559,  -5.2656,  -5.3753,\n",
       "        -5.485 ,  -5.5947,  -5.7044,  -5.8141,  -5.9238,  -6.0335,\n",
       "        -6.1432,  -6.2529,  -6.3626,  -6.4723,  -6.582 ,  -6.6917,\n",
       "        -6.8014,  -6.9111,  -7.0208,  -7.1305,  -7.2402,  -7.3499,\n",
       "        -7.4596,  -7.5693,  -7.679 ,  -7.7887,  -7.8984,  -8.0081,\n",
       "        -8.1178,  -8.2275,  -8.3372,  -8.4469,  -8.5566,  -8.6663,\n",
       "        -8.776 ,  -8.8857,  -8.9954,  -9.1051,  -9.2148,  -9.3245,\n",
       "        -9.4342,  -9.5439,  -9.6536,  -9.7633,  -9.873 ,  -9.9827,\n",
       "       -10.0924, -10.2021, -10.3118, -10.4215, -10.5312, -10.6409,\n",
       "       -10.7506, -10.8603, -10.97  , -11.0797, -11.1894, -11.2991,\n",
       "       -11.4088, -11.5185, -11.6282, -11.7379, -11.8476, -11.9573,\n",
       "       -12.067 , -12.1767, -12.2864, -12.3961, -12.5058, -12.6155])"
      ]
     },
     "execution_count": 164,
     "metadata": {},
     "output_type": "execute_result"
    }
   ],
   "source": [
    "table[:,1]"
   ]
  },
  {
   "cell_type": "code",
   "execution_count": null,
   "metadata": {},
   "outputs": [],
   "source": []
  },
  {
   "cell_type": "code",
   "execution_count": 155,
   "metadata": {},
   "outputs": [
    {
     "data": {
      "text/plain": [
       "array([ 4.405552,  6.555672,  0.008776])"
      ]
     },
     "execution_count": 155,
     "metadata": {},
     "output_type": "execute_result"
    }
   ],
   "source": [
    "table[:,1-1][0]*a[0]"
   ]
  },
  {
   "cell_type": "code",
   "execution_count": 149,
   "metadata": {
    "scrolled": true
   },
   "outputs": [
    {
     "data": {
      "text/plain": [
       "array([ 0.4016,  0.5976,  0.0008])"
      ]
     },
     "execution_count": 149,
     "metadata": {},
     "output_type": "execute_result"
    }
   ],
   "source": [
    "a[0]"
   ]
  },
  {
   "cell_type": "code",
   "execution_count": 128,
   "metadata": {},
   "outputs": [
    {
     "data": {
      "text/plain": [
       "array([ 0,  1,  2,  3,  4,  5,  6,  7,  8,  9, 10, 11, 12, 13, 14, 15, 16,\n",
       "       17, 18, 19, 20])"
      ]
     },
     "execution_count": 128,
     "metadata": {},
     "output_type": "execute_result"
    }
   ],
   "source": [
    "ns"
   ]
  },
  {
   "cell_type": "code",
   "execution_count": 75,
   "metadata": {},
   "outputs": [],
   "source": [
    "t=0.06"
   ]
  },
  {
   "cell_type": "code",
   "execution_count": 81,
   "metadata": {},
   "outputs": [],
   "source": [
    "bod = df2.loc['upstream']['BOD']\n",
    "kd = df1.loc['KD']['value']\n",
    "def BOD(bod, kd, t):\n",
    "    b = (c38*bod) + \\\n",
    "    (d38*bod) + \\\n",
    "    (e38*bod) - \\\n",
    "    (t*bod*kd)\n",
    "    return b"
   ]
  },
  {
   "cell_type": "code",
   "execution_count": 83,
   "metadata": {},
   "outputs": [
    {
     "data": {
      "text/plain": [
       "10.83836"
      ]
     },
     "execution_count": 83,
     "metadata": {},
     "output_type": "execute_result"
    }
   ],
   "source": [
    "BOD(bod,kd, t)"
   ]
  },
  {
   "cell_type": "code",
   "execution_count": 68,
   "metadata": {},
   "outputs": [
    {
     "data": {
      "text/plain": [
       "10.970000000000001"
      ]
     },
     "execution_count": 68,
     "metadata": {},
     "output_type": "execute_result"
    }
   ],
   "source": [
    "df2.loc['upstream']['BOD']"
   ]
  },
  {
   "cell_type": "code",
   "execution_count": null,
   "metadata": {},
   "outputs": [],
   "source": []
  },
  {
   "cell_type": "code",
   "execution_count": 17,
   "metadata": {},
   "outputs": [
    {
     "data": {
      "text/plain": [
       "50000.0"
      ]
     },
     "execution_count": 17,
     "metadata": {},
     "output_type": "execute_result"
    }
   ],
   "source": [
    "df.loc['L']['value']"
   ]
  },
  {
   "cell_type": "code",
   "execution_count": null,
   "metadata": {},
   "outputs": [],
   "source": [
    "pd.read_csv()"
   ]
  }
 ],
 "metadata": {
  "kernelspec": {
   "display_name": "Python 3",
   "language": "python",
   "name": "python3"
  },
  "language_info": {
   "codemirror_mode": {
    "name": "ipython",
    "version": 3
   },
   "file_extension": ".py",
   "mimetype": "text/x-python",
   "name": "python",
   "nbconvert_exporter": "python",
   "pygments_lexer": "ipython3",
   "version": "3.5.3"
  }
 },
 "nbformat": 4,
 "nbformat_minor": 2
}
